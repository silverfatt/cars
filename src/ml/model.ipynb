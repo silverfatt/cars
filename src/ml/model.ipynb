{
 "cells": [
  {
   "cell_type": "code",
   "execution_count": null,
   "metadata": {},
   "outputs": [],
   "source": [
    "import pandas as pd\n",
    "import numpy as np\n",
    "from sklearn.model_selection import train_test_split, GridSearchCV\n",
    "from sklearn.ensemble import RandomForestRegressor\n",
    "from datetime import datetime, timedelta\n"
   ]
  },
  {
   "cell_type": "code",
   "execution_count": null,
   "metadata": {},
   "outputs": [],
   "source": [
    "# Загрузка данных\n",
    "data = pd.read_csv(\"dataset.csv\")\n",
    "\n",
    "# Преобразование дат\n",
    "data['last_maintenance_date'] = pd.to_datetime(data['last_maintenance_date'])\n",
    "current_date = datetime.today()\n"
   ]
  },
  {
   "cell_type": "code",
   "execution_count": null,
   "metadata": {},
   "outputs": [],
   "source": [
    "def calculate_maintenance_interval(row):\n",
    "    # Определим интервал ТО в зависимости от пробега\n",
    "    if row['mileage'] < 100000:\n",
    "        return 365  # Например, для автомобилей с пробегом меньше 100,000 км ТО раз в год\n",
    "    elif row['mileage'] < 200000:\n",
    "        return 270  # ТО через 9 месяцев\n",
    "    else:\n",
    "        return 180  # ТО через 6 месяцев"
   ]
  },
  {
   "cell_type": "code",
   "execution_count": null,
   "metadata": {},
   "outputs": [],
   "source": [
    "data['maintenance_interval_days'] = data.apply(calculate_maintenance_interval, axis=1)"
   ]
  },
  {
   "cell_type": "code",
   "execution_count": null,
   "metadata": {},
   "outputs": [],
   "source": [
    "# Создание целевой переменной: дни до следующего ТО\n",
    "data['days_to_next_to'] = (\n",
    "    data['last_maintenance_date'] \n",
    "    + pd.to_timedelta(data['maintenance_interval_days'], unit='d') \n",
    "    - current_date\n",
    ").dt.days"
   ]
  },
  {
   "cell_type": "code",
   "execution_count": null,
   "metadata": {},
   "outputs": [],
   "source": [
    "data = data[data['days_to_next_to'] > 0]"
   ]
  },
  {
   "cell_type": "code",
   "execution_count": null,
   "metadata": {},
   "outputs": [],
   "source": [
    "X = data[['year_of_manufacture', 'mileage', 'count_trip']]\n",
    "y = data['days_to_next_to']"
   ]
  },
  {
   "cell_type": "code",
   "execution_count": null,
   "metadata": {},
   "outputs": [],
   "source": [
    "X_train, X_test, y_train, y_test = train_test_split(X, y, test_size=0.2, random_state=42)"
   ]
  },
  {
   "cell_type": "code",
   "execution_count": null,
   "metadata": {},
   "outputs": [],
   "source": [
    "param_grid = {\n",
    "    'n_estimators': [100, 200, 300],  # Количество деревьев в лесу\n",
    "    'max_depth': [10, 20, 30, None],  # Максимальная глубина дерева\n",
    "    'min_samples_split': [2, 5, 10],  # Минимальное количество образцов для разделения\n",
    "    'min_samples_leaf': [1, 2, 4],    # Минимальное количество образцов для листа\n",
    "    'max_features': ['auto', 'sqrt', 'log2']  # Количество признаков для разбиения\n",
    "}"
   ]
  },
  {
   "cell_type": "code",
   "execution_count": null,
   "metadata": {},
   "outputs": [],
   "source": [
    "model = RandomForestRegressor(random_state=42)"
   ]
  },
  {
   "cell_type": "code",
   "execution_count": null,
   "metadata": {},
   "outputs": [],
   "source": [
    "grid_search = GridSearchCV(estimator=model, param_grid=param_grid, cv=3, n_jobs=-1, verbose=2)\n",
    "grid_search.fit(X_train, y_train)"
   ]
  },
  {
   "cell_type": "code",
   "execution_count": null,
   "metadata": {},
   "outputs": [],
   "source": [
    "best_params = grid_search.best_params_\n",
    "print(f\"Лучшие гиперпараметры: {best_params}\")"
   ]
  },
  {
   "cell_type": "code",
   "execution_count": null,
   "metadata": {},
   "outputs": [],
   "source": [
    "def predict_next_maintenance(user_data):\n",
    "    \"\"\"\n",
    "    Предсказывает дату следующего ТО для введенных данных.\n",
    "    \n",
    "    Args:\n",
    "        user_data (dict): Словарь с данными пользователя, содержащий ключи:\n",
    "            - year_of_manufacture\n",
    "            - mileage\n",
    "            - count_trip\n",
    "            - last_maintenance_date (в формате 'YYYY-MM-DD')\n",
    "    \n",
    "    Returns:\n",
    "        str: Рекомендуемая дата ТО (в формате 'YYYY-MM-DD')\n",
    "    \"\"\"\n",
    "    input_data = pd.DataFrame([{\n",
    "        'year_of_manufacture': user_data['year_of_manufacture'],\n",
    "        'mileage': user_data['mileage'],\n",
    "        'count_trip': user_data['count_trip'],\n",
    "    }])\n",
    "    \n",
    "    predicted_days = best_model.predict(input_data)[0]\n",
    "    \n",
    "    last_maintenance_date = pd.to_datetime(user_data['last_maintenance_date'])\n",
    "    recommended_date = last_maintenance_date + pd.to_timedelta(predicted_days, unit='d')\n",
    "    \n",
    "    return recommended_date.date()"
   ]
  },
  {
   "cell_type": "code",
   "execution_count": 89,
   "metadata": {},
   "outputs": [
    {
     "name": "stdout",
     "output_type": "stream",
     "text": [
      "Рекомендованная дата ТО для введенных данных: 2024-06-14\n"
     ]
    }
   ],
   "source": [
    "# Пример данных\n",
    "user_data = {\n",
    "    'year_of_manufacture': 2023,\n",
    "    'mileage': 150000,\n",
    "    'count_trip': 350000,\n",
    "    'last_maintenance_date': '2024-01-01'\n",
    "}\n",
    "\n",
    "# Прогноз для пользовательских данных\n",
    "predicted_date = predict_next_maintenance(user_data)\n",
    "print(f\"Рекомендованная дата ТО для введенных данных: {predicted_date}\")"
   ]
  },
  {
   "cell_type": "code",
   "execution_count": 92,
   "metadata": {},
   "outputs": [
    {
     "name": "stdout",
     "output_type": "stream",
     "text": [
      "Средняя абсолютная ошибка (MAE): 61.18 дней\n",
      "Среднеквадратичная ошибка (RMSE): 74.25 дней\n",
      "Коэффициент детерминации (R²): 0.2245\n"
     ]
    }
   ],
   "source": [
    "# Прогнозируем на тестовой выборке\n",
    "y_pred = best_model.predict(X_test)\n",
    "\n",
    "# Оценка модели с использованием MAE, RMSE и R²\n",
    "mae = mean_absolute_error(y_test, y_pred)\n",
    "rmse = np.sqrt(mean_squared_error(y_test, y_pred))\n",
    "r2 = r2_score(y_test, y_pred)\n",
    "\n",
    "# Выводим результаты\n",
    "print(f\"Средняя абсолютная ошибка (MAE): {mae:.2f} дней\")\n",
    "print(f\"Среднеквадратичная ошибка (RMSE): {rmse:.2f} дней\")\n",
    "print(f\"Коэффициент детерминации (R²): {r2:.4f}\")"
   ]
  },
  {
   "cell_type": "code",
   "execution_count": 93,
   "metadata": {},
   "outputs": [
    {
     "data": {
      "text/plain": [
       "['model.joblib']"
      ]
     },
     "execution_count": 93,
     "metadata": {},
     "output_type": "execute_result"
    }
   ],
   "source": [
    "import joblib\n",
    "\n",
    "# Сохранение модели\n",
    "joblib.dump(best_model, 'model.joblib')\n",
    "\n"
   ]
  }
 ],
 "metadata": {
  "kernelspec": {
   "display_name": "Python 3",
   "language": "python",
   "name": "python3"
  },
  "language_info": {
   "codemirror_mode": {
    "name": "ipython",
    "version": 3
   },
   "file_extension": ".py",
   "mimetype": "text/x-python",
   "name": "python",
   "nbconvert_exporter": "python",
   "pygments_lexer": "ipython3",
   "version": "3.11.0"
  }
 },
 "nbformat": 4,
 "nbformat_minor": 2
}
