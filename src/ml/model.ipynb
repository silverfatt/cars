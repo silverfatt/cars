{
 "cells": [
  {
   "cell_type": "code",
   "execution_count": 61,
   "metadata": {},
   "outputs": [
    {
     "name": "stdout",
     "output_type": "stream",
     "text": [
      "Fitting 3 folds for each of 324 candidates, totalling 972 fits\n"
     ]
    }
   ],
   "source": [
    "import pandas as pd\n",
    "import numpy as np\n",
    "from sklearn.model_selection import train_test_split, GridSearchCV\n",
    "from sklearn.ensemble import RandomForestRegressor\n",
    "from datetime import datetime, timedelta\n",
    "\n",
    "data = pd.read_csv(\"dataset.csv\")\n",
    "\n",
    "data['last_maintenance_date'] = pd.to_datetime(data['last_maintenance_date'])\n",
    "current_date = datetime.now()\n",
    "\n",
    "def calculate_maintenance_interval(row):\n",
    "    car_age = current_date.year - row['year_of_manufacture']\n",
    "    \n",
    "    if car_age > 4:\n",
    "        return 180 \n",
    "    elif row['mileage'] < 100000:\n",
    "        return 365  \n",
    "    elif row['mileage'] < 200000:\n",
    "        return 270\n",
    "    else:\n",
    "        return 180\n",
    "\n",
    "data['maintenance_interval_days'] = data.apply(calculate_maintenance_interval, axis=1)\n",
    "\n",
    "data['days_to_next_to'] = (\n",
    "    data['last_maintenance_date'] \n",
    "    + pd.to_timedelta(data['maintenance_interval_days'], unit='d') \n",
    "    - current_date\n",
    ").dt.days\n",
    "\n",
    "data = data[data['days_to_next_to'] > 0]\n",
    "X = data[['year_of_manufacture', 'mileage']]\n",
    "y = data['days_to_next_to']\n",
    "\n",
    "X_train, X_test, y_train, y_test = train_test_split(X, y, test_size=0.2, random_state=42)\n",
    "\n",
    "model = RandomForestRegressor(random_state=42)\n",
    "\n",
    "param_grid = {\n",
    "    'n_estimators': [100, 200, 300], # Количество деревьев в лесу\n",
    "    'max_depth': [10, 20, 30, None], # Максимальная глубина дерева\n",
    "    'min_samples_split': [2, 5, 10], # Минимальное количество образцов для разделения\n",
    "    'min_samples_leaf': [1, 2, 4], # Минимальное количество образцов для листа\n",
    "    'max_features': ['sqrt', 'log2', None] # Количество признаков для разбиения\n",
    "}\n",
    "\n",
    "grid_search = GridSearchCV(\n",
    "    estimator=model,\n",
    "    param_grid=param_grid,\n",
    "    cv=3,\n",
    "    n_jobs=-1,\n",
    "    verbose=2,\n",
    "    error_score='raise'  \n",
    ")\n",
    "\n",
    "grid_search.fit(X_train, y_train)\n",
    "\n",
    "best_model = grid_search.best_estimator_\n",
    "\n",
    "def predict_next_maintenance(user_data):\n",
    "    car_age = current_date.year - user_data['year_of_manufacture']\n",
    "\n",
    "    if car_age > 4:\n",
    "        interval = 180\n",
    "    else:\n",
    "        interval = best_model.predict(pd.DataFrame([{\n",
    "            'year_of_manufacture': user_data['year_of_manufacture'],\n",
    "            'mileage': user_data['mileage'],\n",
    "        }]))[0]\n",
    "\n",
    "    last_maintenance_date = pd.to_datetime(user_data['last_maintenance_date'])\n",
    "    recommended_date = last_maintenance_date + pd.to_timedelta(interval, unit='d')\n",
    "\n",
    "    return recommended_date.date()"
   ]
  },
  {
   "cell_type": "code",
   "execution_count": 63,
   "metadata": {},
   "outputs": [
    {
     "name": "stdout",
     "output_type": "stream",
     "text": [
      "Средняя абсолютная ошибка (MAE): 59.29 дней\n",
      "Среднеквадратичная ошибка (RMSE): 72.51 дней\n",
      "Коэффициент детерминации (R²): 0.2471\n"
     ]
    }
   ],
   "source": [
    "from sklearn.metrics import mean_absolute_error, mean_squared_error, r2_score\n",
    "y_pred = best_model.predict(X_test)\n",
    "\n",
    "mae = mean_absolute_error(y_test, y_pred)\n",
    "rmse = np.sqrt(mean_squared_error(y_test, y_pred))\n",
    "r2 = r2_score(y_test, y_pred)\n",
    "\n",
    "print(f\"Средняя абсолютная ошибка (MAE): {mae:.2f} дней\")\n",
    "print(f\"Среднеквадратичная ошибка (RMSE): {rmse:.2f} дней\")\n",
    "print(f\"Коэффициент детерминации (R²): {r2:.4f}\")"
   ]
  },
  {
   "cell_type": "code",
   "execution_count": 64,
   "metadata": {},
   "outputs": [
    {
     "name": "stdout",
     "output_type": "stream",
     "text": [
      "Рекомендованная дата ТО для введенных данных: 2024-06-13\n"
     ]
    }
   ],
   "source": [
    "user_data = {\n",
    "    'year_of_manufacture': 2022,\n",
    "    'mileage': 100000,\n",
    "    'last_maintenance_date': '2024-01-01'\n",
    "}\n",
    "\n",
    "# Прогноз для пользовательских данных\n",
    "predicted_date = predict_next_maintenance(user_data)\n",
    "print(f\"Рекомендованная дата ТО для введенных данных: {predicted_date}\")"
   ]
  },
  {
   "cell_type": "code",
   "execution_count": 65,
   "metadata": {},
   "outputs": [
    {
     "data": {
      "text/plain": [
       "['model.joblib']"
      ]
     },
     "execution_count": 65,
     "metadata": {},
     "output_type": "execute_result"
    }
   ],
   "source": [
    "import joblib\n",
    "joblib.dump(best_model, 'model.joblib')"
   ]
  }
 ],
 "metadata": {
  "kernelspec": {
   "display_name": "Python 3",
   "language": "python",
   "name": "python3"
  },
  "language_info": {
   "codemirror_mode": {
    "name": "ipython",
    "version": 3
   },
   "file_extension": ".py",
   "mimetype": "text/x-python",
   "name": "python",
   "nbconvert_exporter": "python",
   "pygments_lexer": "ipython3",
   "version": "3.11.0"
  }
 },
 "nbformat": 4,
 "nbformat_minor": 2
}
